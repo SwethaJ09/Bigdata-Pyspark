{
  "nbformat": 4,
  "nbformat_minor": 0,
  "metadata": {
    "colab": {
      "provenance": []
    },
    "kernelspec": {
      "name": "python3",
      "display_name": "Python 3"
    },
    "language_info": {
      "name": "python"
    }
  },
  "cells": [
    {
      "cell_type": "code",
      "execution_count": 1,
      "metadata": {
        "colab": {
          "base_uri": "https://localhost:8080/"
        },
        "id": "JA-b42hCrFYM",
        "outputId": "a8c5b1b2-b15c-49e7-b34d-fb3f9be18c95"
      },
      "outputs": [
        {
          "output_type": "stream",
          "name": "stdout",
          "text": [
            "Collecting pyspark\n",
            "  Downloading pyspark-3.5.0.tar.gz (316.9 MB)\n",
            "\u001b[2K     \u001b[90m━━━━━━━━━━━━━━━━━━━━━━━━━━━━━━━━━━━━━━━━\u001b[0m \u001b[32m316.9/316.9 MB\u001b[0m \u001b[31m3.7 MB/s\u001b[0m eta \u001b[36m0:00:00\u001b[0m\n",
            "\u001b[?25h  Preparing metadata (setup.py) ... \u001b[?25l\u001b[?25hdone\n",
            "Requirement already satisfied: py4j==0.10.9.7 in /usr/local/lib/python3.10/dist-packages (from pyspark) (0.10.9.7)\n",
            "Building wheels for collected packages: pyspark\n",
            "  Building wheel for pyspark (setup.py) ... \u001b[?25l\u001b[?25hdone\n",
            "  Created wheel for pyspark: filename=pyspark-3.5.0-py2.py3-none-any.whl size=317425344 sha256=2916a424a43e91499eed307c6374f718c6722f65257eee38269ad383d70f4524\n",
            "  Stored in directory: /root/.cache/pip/wheels/41/4e/10/c2cf2467f71c678cfc8a6b9ac9241e5e44a01940da8fbb17fc\n",
            "Successfully built pyspark\n",
            "Installing collected packages: pyspark\n",
            "Successfully installed pyspark-3.5.0\n"
          ]
        }
      ],
      "source": [
        "!pip install pyspark"
      ]
    },
    {
      "cell_type": "code",
      "source": [
        "from pyspark.sql import SparkSession\n",
        "from pyspark.sql.functions import *\n",
        "from pyspark.ml.feature import VectorAssembler\n",
        "from pyspark.ml.classification import LogisticRegression\n",
        "from pyspark.ml.evaluation import BinaryClassificationEvaluator\n",
        "from pyspark.ml.classification import LogisticRegressionModel\n",
        "import pandas as ps\n",
        ""
      ],
      "metadata": {
        "id": "H97794Korr4N"
      },
      "execution_count": 2,
      "outputs": []
    },
    {
      "cell_type": "code",
      "source": [
        "spark = SparkSession.builder.appName(\"spark\").getOrCreate()\n"
      ],
      "metadata": {
        "id": "jrshbZsDrvg7"
      },
      "execution_count": 3,
      "outputs": []
    },
    {
      "cell_type": "code",
      "source": [
        "df = spark.read.csv('/content/diabetes.csv', header = True, inferSchema=True) # predit le type de colonnes\n",
        "df.show(6)"
      ],
      "metadata": {
        "colab": {
          "base_uri": "https://localhost:8080/"
        },
        "id": "DItfO7BErzzV",
        "outputId": "71a347fe-1c04-46e8-f29d-535210890320"
      },
      "execution_count": 4,
      "outputs": [
        {
          "output_type": "stream",
          "name": "stdout",
          "text": [
            "+-----------+-------+-------------+-------------+-------+----+------------------------+---+-------+\n",
            "|Pregnancies|Glucose|BloodPressure|SkinThickness|Insulin| BMI|DiabetesPedigreeFunction|Age|Outcome|\n",
            "+-----------+-------+-------------+-------------+-------+----+------------------------+---+-------+\n",
            "|          6|    148|           72|           35|      0|33.6|                   0.627| 50|      1|\n",
            "|          1|     85|           66|           29|      0|26.6|                   0.351| 31|      0|\n",
            "|          8|    183|           64|            0|      0|23.3|                   0.672| 32|      1|\n",
            "|          1|     89|           66|           23|     94|28.1|                   0.167| 21|      0|\n",
            "|          0|    137|           40|           35|    168|43.1|                   2.288| 33|      1|\n",
            "|          5|    116|           74|            0|      0|25.6|                   0.201| 30|      0|\n",
            "+-----------+-------+-------------+-------------+-------+----+------------------------+---+-------+\n",
            "only showing top 6 rows\n",
            "\n"
          ]
        }
      ]
    },
    {
      "cell_type": "code",
      "source": [
        "df.printSchema()"
      ],
      "metadata": {
        "colab": {
          "base_uri": "https://localhost:8080/"
        },
        "id": "qkwOOzr3r2wl",
        "outputId": "0c8369ed-86d5-4113-d648-ab69fe393974"
      },
      "execution_count": 5,
      "outputs": [
        {
          "output_type": "stream",
          "name": "stdout",
          "text": [
            "root\n",
            " |-- Pregnancies: integer (nullable = true)\n",
            " |-- Glucose: integer (nullable = true)\n",
            " |-- BloodPressure: integer (nullable = true)\n",
            " |-- SkinThickness: integer (nullable = true)\n",
            " |-- Insulin: integer (nullable = true)\n",
            " |-- BMI: double (nullable = true)\n",
            " |-- DiabetesPedigreeFunction: double (nullable = true)\n",
            " |-- Age: integer (nullable = true)\n",
            " |-- Outcome: integer (nullable = true)\n",
            "\n"
          ]
        }
      ]
    },
    {
      "cell_type": "code",
      "source": [
        "print(df.count(), ':', len(df.columns))"
      ],
      "metadata": {
        "colab": {
          "base_uri": "https://localhost:8080/"
        },
        "id": "2AMFZeRGr5W7",
        "outputId": "7cf3782d-fb7a-43a8-fcd8-9f26b892e4f8"
      },
      "execution_count": 6,
      "outputs": [
        {
          "output_type": "stream",
          "name": "stdout",
          "text": [
            "768 : 9\n"
          ]
        }
      ]
    },
    {
      "cell_type": "code",
      "source": [
        "df.groupBy(\"Outcome\").count().show()"
      ],
      "metadata": {
        "colab": {
          "base_uri": "https://localhost:8080/"
        },
        "id": "wAJXgzuJr8HP",
        "outputId": "a5010b85-0fc2-414a-ac40-51052971ffc5"
      },
      "execution_count": 7,
      "outputs": [
        {
          "output_type": "stream",
          "name": "stdout",
          "text": [
            "+-------+-----+\n",
            "|Outcome|count|\n",
            "+-------+-----+\n",
            "|      1|  268|\n",
            "|      0|  500|\n",
            "+-------+-----+\n",
            "\n"
          ]
        }
      ]
    },
    {
      "cell_type": "code",
      "source": [
        "df.describe().show()"
      ],
      "metadata": {
        "colab": {
          "base_uri": "https://localhost:8080/"
        },
        "id": "D3n1mMOOr-Cp",
        "outputId": "27ac4147-a083-4660-f263-59285627a9f5"
      },
      "execution_count": 8,
      "outputs": [
        {
          "output_type": "stream",
          "name": "stdout",
          "text": [
            "+-------+------------------+-----------------+------------------+------------------+------------------+------------------+------------------------+------------------+------------------+\n",
            "|summary|       Pregnancies|          Glucose|     BloodPressure|     SkinThickness|           Insulin|               BMI|DiabetesPedigreeFunction|               Age|           Outcome|\n",
            "+-------+------------------+-----------------+------------------+------------------+------------------+------------------+------------------------+------------------+------------------+\n",
            "|  count|               768|              768|               768|               768|               768|               768|                     768|               768|               768|\n",
            "|   mean|3.8450520833333335|     120.89453125|       69.10546875|20.536458333333332| 79.79947916666667|31.992578124999977|      0.4718763020833327|33.240885416666664|0.3489583333333333|\n",
            "| stddev|  3.36957806269887|31.97261819513622|19.355807170644777|15.952217567727642|115.24400235133803| 7.884160320375441|       0.331328595012775|11.760231540678689| 0.476951377242799|\n",
            "|    min|                 0|                0|                 0|                 0|                 0|               0.0|                   0.078|                21|                 0|\n",
            "|    max|                17|              199|               122|                99|               846|              67.1|                    2.42|                81|                 1|\n",
            "+-------+------------------+-----------------+------------------+------------------+------------------+------------------+------------------------+------------------+------------------+\n",
            "\n"
          ]
        }
      ]
    },
    {
      "cell_type": "code",
      "source": [
        "for col in df.columns:\n",
        "  print(col + \":\", df[df[col].isNull()].count())"
      ],
      "metadata": {
        "colab": {
          "base_uri": "https://localhost:8080/"
        },
        "id": "aax16h3Er_8v",
        "outputId": "a371e8f9-39ee-4a95-c5c2-13330eb50d8d"
      },
      "execution_count": 9,
      "outputs": [
        {
          "output_type": "stream",
          "name": "stdout",
          "text": [
            "Pregnancies: 0\n",
            "Glucose: 0\n",
            "BloodPressure: 0\n",
            "SkinThickness: 0\n",
            "Insulin: 0\n",
            "BMI: 0\n",
            "DiabetesPedigreeFunction: 0\n",
            "Age: 0\n",
            "Outcome: 0\n"
          ]
        }
      ]
    },
    {
      "cell_type": "code",
      "source": [
        "def count_zeros(df, columns):\n",
        "  for col in columns:\n",
        "    num_zeros = df.filter(df[col] == 0).count()\n",
        "    total_rows = df.count()\n",
        "    percentage = (num_zeros / total_rows) * 100\n",
        "    print(\"{} : {} ({:.2f}%)\".format(col, num_zeros, percentage))"
      ],
      "metadata": {
        "id": "kO4fmwOysCnQ"
      },
      "execution_count": 10,
      "outputs": []
    },
    {
      "cell_type": "code",
      "source": [
        "liste_cols = ['Glucose', 'Bloodpressure', 'SkinThickness', 'Insulin', 'BMI']\n",
        "count_zeros(df, liste_cols)"
      ],
      "metadata": {
        "colab": {
          "base_uri": "https://localhost:8080/"
        },
        "id": "n4anCQRbsF4C",
        "outputId": "a619b2f8-1807-473a-cfeb-19037d8058f9"
      },
      "execution_count": 11,
      "outputs": [
        {
          "output_type": "stream",
          "name": "stdout",
          "text": [
            "Glucose : 5 (0.65%)\n",
            "Bloodpressure : 35 (4.56%)\n",
            "SkinThickness : 227 (29.56%)\n",
            "Insulin : 374 (48.70%)\n",
            "BMI : 11 (1.43%)\n"
          ]
        }
      ]
    },
    {
      "cell_type": "code",
      "source": [
        "for i in df.columns[1:6]:\n",
        "  mean_val = df.agg({i:'mean'}).first()[0]\n",
        "  print(\"la valeur moyenne de la colonne {} est : {}\".format(i, int(mean_val)))\n",
        "  # update the values : si la condition (val ==0) est vrai\n",
        "  df = df.withColumn(i, when(df[i]==0, int(mean_val)).otherwise(df[i]))\n",
        "\n",
        "df.show(10)"
      ],
      "metadata": {
        "colab": {
          "base_uri": "https://localhost:8080/"
        },
        "id": "JWoR_TjosJXu",
        "outputId": "c4aed513-162f-42a1-8c19-da2a6ebb9c14"
      },
      "execution_count": 12,
      "outputs": [
        {
          "output_type": "stream",
          "name": "stdout",
          "text": [
            "la valeur moyenne de la colonne Glucose est : 120\n",
            "la valeur moyenne de la colonne BloodPressure est : 69\n",
            "la valeur moyenne de la colonne SkinThickness est : 20\n",
            "la valeur moyenne de la colonne Insulin est : 79\n",
            "la valeur moyenne de la colonne BMI est : 31\n",
            "+-----------+-------+-------------+-------------+-------+----+------------------------+---+-------+\n",
            "|Pregnancies|Glucose|BloodPressure|SkinThickness|Insulin| BMI|DiabetesPedigreeFunction|Age|Outcome|\n",
            "+-----------+-------+-------------+-------------+-------+----+------------------------+---+-------+\n",
            "|          6|    148|           72|           35|     79|33.6|                   0.627| 50|      1|\n",
            "|          1|     85|           66|           29|     79|26.6|                   0.351| 31|      0|\n",
            "|          8|    183|           64|           20|     79|23.3|                   0.672| 32|      1|\n",
            "|          1|     89|           66|           23|     94|28.1|                   0.167| 21|      0|\n",
            "|          0|    137|           40|           35|    168|43.1|                   2.288| 33|      1|\n",
            "|          5|    116|           74|           20|     79|25.6|                   0.201| 30|      0|\n",
            "|          3|     78|           50|           32|     88|31.0|                   0.248| 26|      1|\n",
            "|         10|    115|           69|           20|     79|35.3|                   0.134| 29|      0|\n",
            "|          2|    197|           70|           45|    543|30.5|                   0.158| 53|      1|\n",
            "|          8|    125|           96|           20|     79|31.0|                   0.232| 54|      1|\n",
            "+-----------+-------+-------------+-------------+-------+----+------------------------+---+-------+\n",
            "only showing top 10 rows\n",
            "\n"
          ]
        }
      ]
    },
    {
      "cell_type": "code",
      "source": [
        "\n",
        "# calculer la corrélation entre la variable de réponse et les autres variables\n",
        "for col in df.columns:\n",
        "  print('La correlation de  {} avec la variable outcome est {}.'.format(col, df.stat.corr('Outcome', col)))\n",
        "  #print(f'La correlation de  {col} avec la variable outcome est {df.stat.corr('Outcome', col)}.')"
      ],
      "metadata": {
        "colab": {
          "base_uri": "https://localhost:8080/"
        },
        "id": "kkU_71GTtGpR",
        "outputId": "277c7972-3b1a-4240-e6a2-1bd0475e96fa"
      },
      "execution_count": 13,
      "outputs": [
        {
          "output_type": "stream",
          "name": "stdout",
          "text": [
            "La correlation de  Pregnancies avec la variable outcome est 0.22189815303398638.\n",
            "La correlation de  Glucose avec la variable outcome est 0.49288410274882094.\n",
            "La correlation de  BloodPressure avec la variable outcome est 0.16287909949861834.\n",
            "La correlation de  SkinThickness avec la variable outcome est 0.171856814176564.\n",
            "La correlation de  Insulin avec la variable outcome est 0.17869558803050842.\n",
            "La correlation de  BMI avec la variable outcome est 0.31289043493401536.\n",
            "La correlation de  DiabetesPedigreeFunction avec la variable outcome est 0.17384406565296007.\n",
            "La correlation de  Age avec la variable outcome est 0.23835598302719757.\n",
            "La correlation de  Outcome avec la variable outcome est 1.0.\n"
          ]
        }
      ]
    },
    {
      "cell_type": "code",
      "source": [
        "inputCols = ['Pregnancies' , 'Glucose' , 'BloodPressure', 'SkinThickness' , 'Insulin' , 'BMI' , 'DiabetesPedigreeFunction' ,'Age'  ]\n",
        "assembler = VectorAssembler(inputCols= inputCols, outputCol='features')\n",
        "output_data = assembler.transform(df)\n",
        ""
      ],
      "metadata": {
        "id": "uBlxM1UisMCx"
      },
      "execution_count": 14,
      "outputs": []
    },
    {
      "cell_type": "code",
      "source": [
        "output_data.printSchema()"
      ],
      "metadata": {
        "colab": {
          "base_uri": "https://localhost:8080/"
        },
        "id": "GyatQ7gJtUvk",
        "outputId": "43311975-e3bf-42db-ed1a-605e9317d820"
      },
      "execution_count": 15,
      "outputs": [
        {
          "output_type": "stream",
          "name": "stdout",
          "text": [
            "root\n",
            " |-- Pregnancies: integer (nullable = true)\n",
            " |-- Glucose: integer (nullable = true)\n",
            " |-- BloodPressure: integer (nullable = true)\n",
            " |-- SkinThickness: integer (nullable = true)\n",
            " |-- Insulin: integer (nullable = true)\n",
            " |-- BMI: double (nullable = true)\n",
            " |-- DiabetesPedigreeFunction: double (nullable = true)\n",
            " |-- Age: integer (nullable = true)\n",
            " |-- Outcome: integer (nullable = true)\n",
            " |-- features: vector (nullable = true)\n",
            "\n"
          ]
        }
      ]
    },
    {
      "cell_type": "code",
      "source": [
        "output_data.show(3)"
      ],
      "metadata": {
        "colab": {
          "base_uri": "https://localhost:8080/"
        },
        "id": "RaN3VhpQtXje",
        "outputId": "075ad3b7-6095-495e-bb62-adf69f73d332"
      },
      "execution_count": 16,
      "outputs": [
        {
          "output_type": "stream",
          "name": "stdout",
          "text": [
            "+-----------+-------+-------------+-------------+-------+----+------------------------+---+-------+--------------------+\n",
            "|Pregnancies|Glucose|BloodPressure|SkinThickness|Insulin| BMI|DiabetesPedigreeFunction|Age|Outcome|            features|\n",
            "+-----------+-------+-------------+-------------+-------+----+------------------------+---+-------+--------------------+\n",
            "|          6|    148|           72|           35|     79|33.6|                   0.627| 50|      1|[6.0,148.0,72.0,3...|\n",
            "|          1|     85|           66|           29|     79|26.6|                   0.351| 31|      0|[1.0,85.0,66.0,29...|\n",
            "|          8|    183|           64|           20|     79|23.3|                   0.672| 32|      1|[8.0,183.0,64.0,2...|\n",
            "+-----------+-------+-------------+-------------+-------+----+------------------------+---+-------+--------------------+\n",
            "only showing top 3 rows\n",
            "\n"
          ]
        }
      ]
    },
    {
      "cell_type": "code",
      "source": [
        "final_df = output_data.select('features', 'Outcome')\n",
        "final_df.show(2)"
      ],
      "metadata": {
        "colab": {
          "base_uri": "https://localhost:8080/"
        },
        "id": "81IR-gGPtj6V",
        "outputId": "15206364-9049-4993-af15-cb27e807fe2f"
      },
      "execution_count": 17,
      "outputs": [
        {
          "output_type": "stream",
          "name": "stdout",
          "text": [
            "+--------------------+-------+\n",
            "|            features|Outcome|\n",
            "+--------------------+-------+\n",
            "|[6.0,148.0,72.0,3...|      1|\n",
            "|[1.0,85.0,66.0,29...|      0|\n",
            "+--------------------+-------+\n",
            "only showing top 2 rows\n",
            "\n"
          ]
        }
      ]
    },
    {
      "cell_type": "code",
      "source": [
        "train, test = final_df.randomSplit([0.7, 0.3])\n",
        "\n",
        "# créer le modèle\n",
        "models = LogisticRegression(labelCol='Outcome')\n",
        "\n",
        "# entrainer le modèle\n",
        "model = models.fit(train)"
      ],
      "metadata": {
        "id": "wZ1GFmfAtmtg"
      },
      "execution_count": 18,
      "outputs": []
    },
    {
      "cell_type": "code",
      "source": [
        "summary = model.summary"
      ],
      "metadata": {
        "id": "xY6bR-ibtpxT"
      },
      "execution_count": 19,
      "outputs": []
    },
    {
      "cell_type": "code",
      "source": [
        "summary.predictions.show()\n",
        "summary.predictions.describe().show()"
      ],
      "metadata": {
        "colab": {
          "base_uri": "https://localhost:8080/"
        },
        "id": "edxJIWM2tsx2",
        "outputId": "b76d01b2-83fc-482c-bdf5-ea17cbcbac84"
      },
      "execution_count": 20,
      "outputs": [
        {
          "output_type": "stream",
          "name": "stdout",
          "text": [
            "+--------------------+-------+--------------------+--------------------+----------+\n",
            "|            features|Outcome|       rawPrediction|         probability|prediction|\n",
            "+--------------------+-------+--------------------+--------------------+----------+\n",
            "|[0.0,57.0,60.0,20...|    0.0|[4.11526163127696...|[0.98394044909218...|       0.0|\n",
            "|[0.0,67.0,76.0,20...|    0.0|[2.30752514872193...|[0.90949835391248...|       0.0|\n",
            "|[0.0,73.0,69.0,20...|    0.0|[4.57468490770051...|[0.98979565504996...|       0.0|\n",
            "|[0.0,74.0,52.0,10...|    0.0|[3.55503751398875...|[0.97221383429274...|       0.0|\n",
            "|[0.0,78.0,88.0,29...|    0.0|[3.03085421060549...|[0.95394871347242...|       0.0|\n",
            "|[0.0,86.0,68.0,32...|    0.0|[2.57637203825264...|[0.92932535635686...|       0.0|\n",
            "|[0.0,91.0,68.0,32...|    0.0|[2.06895430950332...|[0.88784888086778...|       0.0|\n",
            "|[0.0,93.0,60.0,25...|    0.0|[2.76081510609953...|[0.94052124827437...|       0.0|\n",
            "|[0.0,93.0,100.0,3...|    0.0|[1.47167022781243...|[0.81331111969979...|       0.0|\n",
            "|[0.0,94.0,70.0,27...|    0.0|[1.58378204831334...|[0.82973948154197...|       0.0|\n",
            "|[0.0,95.0,64.0,39...|    0.0|[1.19226639744656...|[0.76714616253724...|       0.0|\n",
            "|[0.0,95.0,80.0,45...|    0.0|[2.30839382902751...|[0.90956983051199...|       0.0|\n",
            "|[0.0,97.0,64.0,36...|    0.0|[1.72802340724338...|[0.84915941772316...|       0.0|\n",
            "|[0.0,99.0,69.0,20...|    0.0|[3.35082355003807...|[0.96613179369303...|       0.0|\n",
            "|[0.0,100.0,70.0,2...|    0.0|[2.40204797163305...|[0.91698333832727...|       0.0|\n",
            "|[0.0,101.0,62.0,2...|    0.0|[3.35266793808386...|[0.96619209233509...|       0.0|\n",
            "|[0.0,101.0,64.0,1...|    0.0|[3.61596303482013...|[0.97381317457629...|       0.0|\n",
            "|[0.0,101.0,65.0,2...|    0.0|[3.20004564196300...|[0.96083599475491...|       0.0|\n",
            "|[0.0,102.0,86.0,1...|    0.0|[2.83145815745620...|[0.94435227944768...|       0.0|\n",
            "|[0.0,104.0,64.0,2...|    0.0|[2.64956843447707...|[0.93398438621808...|       0.0|\n",
            "+--------------------+-------+--------------------+--------------------+----------+\n",
            "only showing top 20 rows\n",
            "\n",
            "+-------+-------------------+------------------+\n",
            "|summary|            Outcome|        prediction|\n",
            "+-------+-------------------+------------------+\n",
            "|  count|                522|               522|\n",
            "|   mean|0.33524904214559387|0.2681992337164751|\n",
            "| stddev| 0.4725302854637602|0.4434468621365575|\n",
            "|    min|                0.0|               0.0|\n",
            "|    max|                1.0|               1.0|\n",
            "+-------+-------------------+------------------+\n",
            "\n"
          ]
        }
      ]
    },
    {
      "cell_type": "code",
      "source": [
        "predictions = model.evaluate(test)"
      ],
      "metadata": {
        "id": "Rna25wDWtwo5"
      },
      "execution_count": 21,
      "outputs": []
    },
    {
      "cell_type": "code",
      "source": [
        "predictions.predictions.show(15)"
      ],
      "metadata": {
        "colab": {
          "base_uri": "https://localhost:8080/"
        },
        "id": "mX3o19Zktzwl",
        "outputId": "10e03e4c-163f-4934-8b91-1e97727dc0ea"
      },
      "execution_count": 22,
      "outputs": [
        {
          "output_type": "stream",
          "name": "stdout",
          "text": [
            "+--------------------+-------+--------------------+--------------------+----------+\n",
            "|            features|Outcome|       rawPrediction|         probability|prediction|\n",
            "+--------------------+-------+--------------------+--------------------+----------+\n",
            "|[0.0,84.0,64.0,22...|      0|[2.40754164126069...|[0.91740058648549...|       0.0|\n",
            "|[0.0,84.0,82.0,31...|      0|[2.80615722602472...|[0.94300764351404...|       0.0|\n",
            "|[0.0,91.0,80.0,20...|      0|[2.78267808586654...|[0.94173257124649...|       0.0|\n",
            "|[0.0,93.0,60.0,20...|      0|[2.25761700357103...|[0.90530554013226...|       0.0|\n",
            "|[0.0,94.0,69.0,20...|      0|[2.86946588978411...|[0.94631622068313...|       0.0|\n",
            "|[0.0,95.0,85.0,25...|      1|[2.43899202717853...|[0.91975272319051...|       0.0|\n",
            "|[0.0,98.0,82.0,15...|      0|[3.64978800222408...|[0.97466206181831...|       0.0|\n",
            "|[0.0,100.0,88.0,6...|      0|[0.63633938864085...|[0.65392550630144...|       0.0|\n",
            "|[0.0,101.0,76.0,2...|      0|[2.31924110720608...|[0.91045809184128...|       0.0|\n",
            "|[0.0,102.0,52.0,2...|      0|[3.01007911421657...|[0.95302739608978...|       0.0|\n",
            "|[0.0,102.0,64.0,4...|      0|[1.18783270496502...|[0.76635322117247...|       0.0|\n",
            "|[0.0,102.0,75.0,2...|      0|[2.50119318955308...|[0.92422542468025...|       0.0|\n",
            "|[0.0,102.0,78.0,4...|      0|[2.34355477373643...|[0.91242056134268...|       0.0|\n",
            "|[0.0,104.0,76.0,2...|      0|[3.70310993148443...|[0.97594609336994...|       0.0|\n",
            "|[0.0,105.0,84.0,2...|      1|[2.34459957364134...|[0.91250401458410...|       0.0|\n",
            "+--------------------+-------+--------------------+--------------------+----------+\n",
            "only showing top 15 rows\n",
            "\n"
          ]
        }
      ]
    },
    {
      "cell_type": "code",
      "source": [
        "from pyspark.ml import evaluation\n",
        "# évaluer le modèle\n",
        "evaluator = BinaryClassificationEvaluator(rawPredictionCol='rawPrediction', labelCol='Outcome')\n",
        "evaluator.evaluate(model.transform(test))"
      ],
      "metadata": {
        "colab": {
          "base_uri": "https://localhost:8080/"
        },
        "id": "vLWuROI6t3MB",
        "outputId": "84175ae4-f9c4-4e8b-fb88-2a8e853032d8"
      },
      "execution_count": 23,
      "outputs": [
        {
          "output_type": "execute_result",
          "data": {
            "text/plain": [
              "0.8478459484152088"
            ]
          },
          "metadata": {},
          "execution_count": 23
        }
      ]
    },
    {
      "cell_type": "code",
      "source": [
        "model.save(\"LogReg_model\")"
      ],
      "metadata": {
        "id": "-6a67G-xt5rF"
      },
      "execution_count": 24,
      "outputs": []
    },
    {
      "cell_type": "code",
      "source": [
        "model = LogisticRegressionModel.load('LogReg_model')"
      ],
      "metadata": {
        "id": "b73XsYmVt-Mq"
      },
      "execution_count": 25,
      "outputs": []
    }
  ]
}